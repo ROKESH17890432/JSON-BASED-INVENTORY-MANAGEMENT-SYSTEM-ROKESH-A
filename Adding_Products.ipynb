{
  "nbformat": 4,
  "nbformat_minor": 0,
  "metadata": {
    "colab": {
      "name": "Adding Products.ipynb",
      "provenance": [],
      "collapsed_sections": []
    },
    "kernelspec": {
      "name": "python3",
      "display_name": "Python 3"
    },
    "language_info": {
      "name": "python"
    }
  },
  "cells": [
    {
      "cell_type": "markdown",
      "metadata": {
        "id": "asf6k-PiR3ZJ"
      },
      "source": [
        "**Reading Data From JSON**"
      ]
    },
    {
      "cell_type": "code",
      "metadata": {
        "id": "B6S99KXnQrEE"
      },
      "source": [
        "fd  = open(\"data.json\",\"r\")\n",
        "txt = fd.read()\n",
        "fd.close()"
      ],
      "execution_count": 132,
      "outputs": []
    },
    {
      "cell_type": "code",
      "metadata": {
        "id": "QTQ2yRc8TcPG"
      },
      "source": [
        "data = json.loads(txt)"
      ],
      "execution_count": 133,
      "outputs": []
    },
    {
      "cell_type": "code",
      "metadata": {
        "id": "h3bcYcAHTQrT"
      },
      "source": [
        "data"
      ],
      "execution_count": null,
      "outputs": []
    },
    {
      "cell_type": "markdown",
      "metadata": {
        "id": "NQtiV7vHYwLZ"
      },
      "source": [
        "**Adding New Item Into Inventory**"
      ]
    },
    {
      "cell_type": "code",
      "metadata": {
        "id": "oOscsYcjUsHY"
      },
      "source": [
        "import time\n",
        "Time_Order= time.ctime()\n"
      ],
      "execution_count": null,
      "outputs": []
    },
    {
      "cell_type": "code",
      "metadata": {
        "id": "lGZ2r71BVS_8"
      },
      "source": [
        "import json"
      ],
      "execution_count": null,
      "outputs": []
    },
    {
      "cell_type": "code",
      "metadata": {
        "id": "SawqTDPUTkSk"
      },
      "source": [
        "print(\"*******************************************\")\n",
        "product_ID   = input(\"Enter The Product ID : \")\n",
        "product_Name = input(\"Enter The Product Name : \")\n",
        "price        = int(input(\"Enter The Price  : \"))\n",
        "Quantity  = int(input(\"Enter The Quantity : \"))\n",
        "Expiry_Date   = input(\"Enter The Expiry Date : \")\n",
        "Tax   = input(\"Enter The Tax : \")\n",
        "data[product_ID] =  {\"product_Name\":product_Name,\"price\":price,\"Quantity\":Quantity,\"Expiry_Date\":Expiry_Date,\"Tax\":Tax,\"Time\":Time_Order}\n",
        "js=json.dumps(data)\n",
        "fd = open(\"data.json\",\"w\")\n",
        "fd.write(js)\n",
        "fd.close()\n",
        "print(\"*******************************************\")"
      ],
      "execution_count": null,
      "outputs": []
    },
    {
      "cell_type": "markdown",
      "metadata": {
        "id": "UJnmL87B6a_n"
      },
      "source": [
        "**Addition of Quantity in Inventory**"
      ]
    },
    {
      "cell_type": "code",
      "metadata": {
        "id": "sIxG7Zqrw0jb"
      },
      "source": [
        "Addition_Product = input(\"Enter the Product_ID: \")\n",
        "Addition_Quantity = int(input(\"Enter the Quantity: \"))\n",
        "\n",
        "\n"
      ],
      "execution_count": null,
      "outputs": []
    },
    {
      "cell_type": "code",
      "metadata": {
        "id": "AUajhUae51Jv"
      },
      "source": [
        "data[Addition_Product][\"Quantity\"]=data[Addition_Product][\"Quantity\"] +  Addition_Quantity\n"
      ],
      "execution_count": 137,
      "outputs": []
    },
    {
      "cell_type": "code",
      "metadata": {
        "id": "j8hscBCx5zhI"
      },
      "source": [
        "data"
      ],
      "execution_count": null,
      "outputs": []
    },
    {
      "cell_type": "code",
      "metadata": {
        "id": "AuRovbkw6Ucp"
      },
      "source": [
        ""
      ],
      "execution_count": null,
      "outputs": []
    }
  ]
}