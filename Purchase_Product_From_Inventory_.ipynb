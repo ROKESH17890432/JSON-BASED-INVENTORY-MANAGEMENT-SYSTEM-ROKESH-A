{
  "nbformat": 4,
  "nbformat_minor": 0,
  "metadata": {
    "colab": {
      "name": "Purchase Product From Inventory .ipynb",
      "provenance": [],
      "collapsed_sections": []
    },
    "kernelspec": {
      "name": "python3",
      "display_name": "Python 3"
    },
    "language_info": {
      "name": "python"
    }
  },
  "cells": [
    {
      "cell_type": "markdown",
      "metadata": {
        "id": "geATdyTyexRR"
      },
      "source": [
        "**Reading Data Form JSON**"
      ]
    },
    {
      "cell_type": "code",
      "metadata": {
        "id": "6vAK6byeejYO"
      },
      "source": [
        "import json\n",
        "fd = open(\"data.json\",\"r\")\n",
        "txt = fd.read()\n",
        "fd.close()\n",
        "\n",
        "data = json.loads(txt)"
      ],
      "execution_count": null,
      "outputs": []
    },
    {
      "cell_type": "code",
      "metadata": {
        "id": "e2QDrCnpS5dM"
      },
      "source": [
        "data"
      ],
      "execution_count": null,
      "outputs": []
    },
    {
      "cell_type": "markdown",
      "metadata": {
        "id": "06Wb0ArmgDB5"
      },
      "source": [
        "**Purchase From Inventory**"
      ]
    },
    {
      "cell_type": "code",
      "metadata": {
        "id": "fbydYMr6evcq",
        "colab": {
          "base_uri": "https://localhost:8080/"
        },
        "outputId": "3783d41a-8fd1-4f76-fe6b-3c8581de1702"
      },
      "source": [
        "Order_Product = input(\"Enter the Product_ID: \")\n",
        "Order_Quantity = int(input(\"Enter the Quantity: \"))\n",
        "print(\"************************************************************\")\n",
        "print(\"Product: \",data[Order_Product][\"product_Name\"])\n",
        "print(\"Price: \",data[Order_Product][\"price\"])\n",
        "print(\"Billing Amount: \",data[Order_Product][\"price\"]*Order_Quantity)\n",
        "print(\"************************************************************\")\n",
        "data[Order_Product][\"Quantity\"]=data[Order_Product][\"Quantity\"] -  Order_Quantity\n"
      ],
      "execution_count": 152,
      "outputs": [
        {
          "output_type": "stream",
          "name": "stdout",
          "text": [
            "Enter the Product_ID: 132607\n",
            "Enter the Quantity: 3\n",
            "************************************************************\n",
            "Product:  Oil\n",
            "Price:  30\n",
            "Billing Amount:  90\n",
            "************************************************************\n"
          ]
        }
      ]
    },
    {
      "cell_type": "markdown",
      "metadata": {
        "id": "bmaL8P8ii1BA"
      },
      "source": [
        "**Updating Inventory After Purchase**"
      ]
    },
    {
      "cell_type": "code",
      "metadata": {
        "id": "u_W-3ql5ga7A"
      },
      "source": [
        "js=json.dumps(data)\n",
        "fd = open(\"data.json\",\"w\")\n",
        "fd.write(js)\n",
        "fd.close()"
      ],
      "execution_count": 144,
      "outputs": []
    },
    {
      "cell_type": "markdown",
      "metadata": {
        "id": "Wwz7eraSjK7a"
      },
      "source": [
        "**Sales JSON**"
      ]
    },
    {
      "cell_type": "code",
      "metadata": {
        "colab": {
          "base_uri": "https://localhost:8080/"
        },
        "id": "t3Xoh5LYioAa",
        "outputId": "4537bf15-4223-4b11-dfd0-0b587ae046de"
      },
      "source": [
        "{\"Product\" : Order_Product ,\"Quantity\" :Order_Quantity, \"Amount\" : data[Order_Product][\"price\"]*Order_Quantity }"
      ],
      "execution_count": 145,
      "outputs": [
        {
          "output_type": "execute_result",
          "data": {
            "text/plain": [
              "{'Amount': 24, 'Product': '132602', 'Quantity': 3}"
            ]
          },
          "metadata": {},
          "execution_count": 145
        }
      ]
    },
    {
      "cell_type": "code",
      "metadata": {
        "id": "B_qJE9jcj0_W"
      },
      "source": [
        "sales[(len(sales)+1)]={\"Product\" : Order_Product ,\"Quantity\" :Order_Quantity, \"Amount\" : data[Order_Product][\"price\"]*Order_Quantity }"
      ],
      "execution_count": 146,
      "outputs": []
    },
    {
      "cell_type": "code",
      "metadata": {
        "id": "wPz2cFclkUR8"
      },
      "source": [
        "sale=json.dumps(sales)\n"
      ],
      "execution_count": 147,
      "outputs": []
    },
    {
      "cell_type": "code",
      "metadata": {
        "colab": {
          "base_uri": "https://localhost:8080/"
        },
        "id": "VznDzuL_q7A_",
        "outputId": "0c081e45-6d75-485a-8629-eeb9c88d1944"
      },
      "source": [
        "sales"
      ],
      "execution_count": 148,
      "outputs": [
        {
          "output_type": "execute_result",
          "data": {
            "text/plain": [
              "{1: {'Amount': 80, 'Product': '132631', 'Quantity': 2},\n",
              " 2: {'Amount': 80, 'Product': '132612', 'Quantity': 2},\n",
              " 3: {'Amount': 24, 'Product': '132602', 'Quantity': 3}}"
            ]
          },
          "metadata": {},
          "execution_count": 148
        }
      ]
    },
    {
      "cell_type": "code",
      "metadata": {
        "id": "IW2xD-nhnE51"
      },
      "source": [
        "fd = open(\"sales.json\",\"r\")\n",
        "txt = fd.read()\n",
        "fd.close()"
      ],
      "execution_count": 149,
      "outputs": []
    },
    {
      "cell_type": "code",
      "metadata": {
        "id": "Tt8Xx0R0qgq3"
      },
      "source": [
        "txt\n"
      ],
      "execution_count": null,
      "outputs": []
    },
    {
      "cell_type": "code",
      "metadata": {
        "id": "-dlUNVedqidk"
      },
      "source": [
        "js=json.dumps(sales)\n",
        "fd = open(\"sales.json\",\"w\")\n",
        "fd.write(js)\n",
        "fd.close()"
      ],
      "execution_count": 150,
      "outputs": []
    },
    {
      "cell_type": "code",
      "metadata": {
        "id": "gLfxYweM5kpP"
      },
      "source": [
        ""
      ],
      "execution_count": null,
      "outputs": []
    }
  ]
}